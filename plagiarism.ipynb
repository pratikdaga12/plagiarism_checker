{
 "cells": [
  {
   "cell_type": "code",
   "execution_count": 2,
   "metadata": {},
   "outputs": [],
   "source": [
    "import os"
   ]
  },
  {
   "cell_type": "code",
   "execution_count": 3,
   "metadata": {},
   "outputs": [],
   "source": [
    "from sklearn.feature_extraction.text import TfidfVectorizer\n",
    "from sklearn.metrics.pairwise import cosine_similarity"
   ]
  },
  {
   "cell_type": "code",
   "execution_count": 4,
   "metadata": {},
   "outputs": [],
   "source": [
    "student_files = [doc for doc in os.listdir() if doc.endswith('.txt')]"
   ]
  },
  {
   "cell_type": "code",
   "execution_count": 5,
   "metadata": {},
   "outputs": [],
   "source": [
    "student_notes =[open(File).read() for File in  student_files]"
   ]
  },
  {
   "cell_type": "code",
   "execution_count": 6,
   "metadata": {},
   "outputs": [],
   "source": [
    "vectorize = lambda Text: TfidfVectorizer().fit_transform(Text).toarray()"
   ]
  },
  {
   "cell_type": "code",
   "execution_count": 7,
   "metadata": {},
   "outputs": [],
   "source": [
    "similarity = lambda doc1, doc2: cosine_similarity([doc1, doc2])"
   ]
  },
  {
   "cell_type": "code",
   "execution_count": 8,
   "metadata": {},
   "outputs": [
    {
     "name": "stdout",
     "output_type": "stream",
     "text": [
      "[[0.16968176 0.21849616 0.16968176 0.         0.21849616 0.\n",
      "  0.         0.21849616 0.         0.         0.         0.33936352\n",
      "  0.         0.21849616 0.33936352 0.2872962  0.         0.\n",
      "  0.21849616 0.         0.21849616 0.         0.         0.21849616\n",
      "  0.         0.2872962  0.2872962  0.         0.         0.\n",
      "  0.21849616 0.         0.         0.         0.2872962  0.\n",
      "  0.         0.         0.         0.         0.        ]\n",
      " [0.14908717 0.         0.14908717 0.         0.19197688 0.\n",
      "  0.         0.19197688 0.         0.25242653 0.         0.29817434\n",
      "  0.25242653 0.19197688 0.29817434 0.         0.25242653 0.25242653\n",
      "  0.19197688 0.         0.19197688 0.         0.         0.19197688\n",
      "  0.         0.         0.         0.         0.25242653 0.25242653\n",
      "  0.19197688 0.         0.         0.19197688 0.         0.\n",
      "  0.25242653 0.         0.         0.19197688 0.        ]\n",
      " [0.11394786 0.14672861 0.11394786 0.19293049 0.         0.19293049\n",
      "  0.19293049 0.         0.19293049 0.         0.38586098 0.11394786\n",
      "  0.         0.         0.11394786 0.         0.         0.\n",
      "  0.         0.19293049 0.         0.19293049 0.19293049 0.\n",
      "  0.19293049 0.         0.         0.19293049 0.         0.\n",
      "  0.         0.19293049 0.19293049 0.29345722 0.         0.38586098\n",
      "  0.         0.19293049 0.19293049 0.14672861 0.19293049]]\n"
     ]
    }
   ],
   "source": [
    "vectors = vectorize(student_notes)\n",
    "print(vectors)"
   ]
  },
  {
   "cell_type": "code",
   "execution_count": 9,
   "metadata": {},
   "outputs": [
    {
     "name": "stdout",
     "output_type": "stream",
     "text": [
      "[('2.txt', array([0.16968176, 0.21849616, 0.16968176, 0.        , 0.21849616,\n",
      "       0.        , 0.        , 0.21849616, 0.        , 0.        ,\n",
      "       0.        , 0.33936352, 0.        , 0.21849616, 0.33936352,\n",
      "       0.2872962 , 0.        , 0.        , 0.21849616, 0.        ,\n",
      "       0.21849616, 0.        , 0.        , 0.21849616, 0.        ,\n",
      "       0.2872962 , 0.2872962 , 0.        , 0.        , 0.        ,\n",
      "       0.21849616, 0.        , 0.        , 0.        , 0.2872962 ,\n",
      "       0.        , 0.        , 0.        , 0.        , 0.        ,\n",
      "       0.        ])), ('3.txt', array([0.14908717, 0.        , 0.14908717, 0.        , 0.19197688,\n",
      "       0.        , 0.        , 0.19197688, 0.        , 0.25242653,\n",
      "       0.        , 0.29817434, 0.25242653, 0.19197688, 0.29817434,\n",
      "       0.        , 0.25242653, 0.25242653, 0.19197688, 0.        ,\n",
      "       0.19197688, 0.        , 0.        , 0.19197688, 0.        ,\n",
      "       0.        , 0.        , 0.        , 0.25242653, 0.25242653,\n",
      "       0.19197688, 0.        , 0.        , 0.19197688, 0.        ,\n",
      "       0.        , 0.25242653, 0.        , 0.        , 0.19197688,\n",
      "       0.        ])), ('1.txt', array([0.11394786, 0.14672861, 0.11394786, 0.19293049, 0.        ,\n",
      "       0.19293049, 0.19293049, 0.        , 0.19293049, 0.        ,\n",
      "       0.38586098, 0.11394786, 0.        , 0.        , 0.11394786,\n",
      "       0.        , 0.        , 0.        , 0.        , 0.19293049,\n",
      "       0.        , 0.19293049, 0.19293049, 0.        , 0.19293049,\n",
      "       0.        , 0.        , 0.19293049, 0.        , 0.        ,\n",
      "       0.        , 0.19293049, 0.19293049, 0.29345722, 0.        ,\n",
      "       0.38586098, 0.        , 0.19293049, 0.19293049, 0.14672861,\n",
      "       0.19293049]))]\n"
     ]
    }
   ],
   "source": [
    "s_vectors = list(zip(student_files, vectors))\n",
    "print(s_vectors)"
   ]
  },
  {
   "cell_type": "code",
   "execution_count": 10,
   "metadata": {},
   "outputs": [],
   "source": [
    "plagiarism_results = set()"
   ]
  },
  {
   "cell_type": "code",
   "execution_count": 11,
   "metadata": {},
   "outputs": [],
   "source": [
    "def check_plagiarism():\n",
    "    global s_vectors\n",
    "    for student_a, text_vector_a in s_vectors:\n",
    "        new_vectors =s_vectors.copy()\n",
    "        current_index = new_vectors.index((student_a, text_vector_a))\n",
    "        del new_vectors[current_index]\n",
    "        for student_b , text_vector_b in new_vectors:\n",
    "            sim_score = similarity(text_vector_a, text_vector_b)[0][1]\n",
    "            student_pair = sorted((student_a, student_b))\n",
    "            score = (student_pair[0], student_pair[1],sim_score)\n",
    "            plagiarism_results.add(score)\n",
    "    return plagiarism_results\n"
   ]
  },
  {
   "cell_type": "code",
   "execution_count": 12,
   "metadata": {},
   "outputs": [
    {
     "name": "stdout",
     "output_type": "stream",
     "text": [
      "('1.txt', '2.txt', 0.14806887549598566)\n",
      "('1.txt', '3.txt', 0.18643448370323362)\n",
      "('2.txt', '3.txt', 0.5465972177348937)\n"
     ]
    }
   ],
   "source": [
    "for data in check_plagiarism():\n",
    "    print(data)"
   ]
  }
 ],
 "metadata": {
  "kernelspec": {
   "display_name": "Python 3",
   "language": "python",
   "name": "python3"
  },
  "language_info": {
   "codemirror_mode": {
    "name": "ipython",
    "version": 3
   },
   "file_extension": ".py",
   "mimetype": "text/x-python",
   "name": "python",
   "nbconvert_exporter": "python",
   "pygments_lexer": "ipython3",
   "version": "3.7.6"
  }
 },
 "nbformat": 4,
 "nbformat_minor": 4
}
